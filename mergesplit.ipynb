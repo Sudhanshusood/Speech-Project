{
 "cells": [
  {
   "cell_type": "code",
   "execution_count": 5,
   "id": "a923dd18",
   "metadata": {},
   "outputs": [
    {
     "name": "stderr",
     "output_type": "stream",
     "text": [
      "training/real: 100%|██████████| 26941/26941 [00:12<00:00, 2167.91it/s]\n",
      "training/fake: 100%|██████████| 26927/26927 [00:13<00:00, 1994.58it/s]\n",
      "validation/real: 100%|██████████| 5400/5400 [00:02<00:00, 1820.28it/s]\n",
      "validation/fake: 100%|██████████| 5398/5398 [00:03<00:00, 1720.36it/s]\n",
      "testing/real: 100%|██████████| 2264/2264 [00:01<00:00, 1772.56it/s]\n",
      "testing/fake: 100%|██████████| 2370/2370 [00:01<00:00, 1733.13it/s]"
     ]
    },
    {
     "name": "stdout",
     "output_type": "stream",
     "text": [
      "\n",
      "Merged and renamed all files into 'Data/real' and 'Data/fake'\n"
     ]
    },
    {
     "name": "stderr",
     "output_type": "stream",
     "text": [
      "\n"
     ]
    }
   ],
   "source": [
    "import os\n",
    "import shutil\n",
    "from tqdm import tqdm\n",
    "\n",
    "source_root = \"data_preprocessed\"\n",
    "target_root = \"Data\"\n",
    "\n",
    "splits = [\"training\", \"validation\", \"testing\"]\n",
    "classes = [\"real\", \"fake\"]\n",
    "\n",
    "# Create target folders\n",
    "for cls in classes:\n",
    "    os.makedirs(os.path.join(target_root, cls), exist_ok=True)\n",
    "\n",
    "file_id = {\"real\": 1, \"fake\": 1}\n",
    "\n",
    "for split in splits:\n",
    "    for cls in classes:\n",
    "        source_folder = os.path.join(source_root, split, cls)\n",
    "        target_folder = os.path.join(target_root, cls)\n",
    "        \n",
    "        for file in tqdm(os.listdir(source_folder), desc=f\"{split}/{cls}\"):\n",
    "            if not file.endswith(\".wav\"):\n",
    "                continue\n",
    "            \n",
    "            src_path = os.path.join(source_folder, file)\n",
    "            new_filename = f\"file{file_id[cls]}.wav\"\n",
    "            dest_path = os.path.join(target_folder, new_filename)\n",
    "            \n",
    "            # Copy and rename\n",
    "            shutil.copy2(src_path, dest_path)\n",
    "            file_id[cls] += 1\n",
    "\n",
    "print(f\"\\nMerged and renamed all files into '{target_root}/real' and '{target_root}/fake'\")\n"
   ]
  },
  {
   "cell_type": "code",
   "execution_count": 1,
   "id": "8967a10c",
   "metadata": {},
   "outputs": [
    {
     "name": "stdout",
     "output_type": "stream",
     "text": [
      "✅ Dataset has been shuffled and split into training/validation/testing.\n"
     ]
    }
   ],
   "source": [
    "import os\n",
    "import shutil\n",
    "import random\n",
    "\n",
    "# Paths\n",
    "base_dir = 'Data'  # your merged folder\n",
    "real_dir = os.path.join(base_dir, 'real')\n",
    "fake_dir = os.path.join(base_dir, 'fake')\n",
    "\n",
    "# Output paths\n",
    "output_base = 'Data_Split'\n",
    "splits = ['training', 'validation', 'testing']\n",
    "split_ratios = [0.7, 0.15, 0.15]  # 70% train, 15% val, 15% test\n",
    "\n",
    "# Make sure output dirs exist\n",
    "for split in splits:\n",
    "    for cls in ['real', 'fake']:\n",
    "        os.makedirs(os.path.join(output_base, split, cls), exist_ok=True)\n",
    "\n",
    "# Function to shuffle and split\n",
    "def shuffle_and_split(class_dir, class_name):\n",
    "    files = os.listdir(class_dir)\n",
    "    random.shuffle(files)\n",
    "\n",
    "    total = len(files)\n",
    "    train_end = int(total * split_ratios[0])\n",
    "    val_end = train_end + int(total * split_ratios[1])\n",
    "\n",
    "    split_files = {\n",
    "        'training': files[:train_end],\n",
    "        'validation': files[train_end:val_end],\n",
    "        'testing': files[val_end:]\n",
    "    }\n",
    "\n",
    "    for split, split_filenames in split_files.items():\n",
    "        for filename in split_filenames:\n",
    "            src = os.path.join(class_dir, filename)\n",
    "            dst = os.path.join(output_base, split, class_name, filename)\n",
    "            shutil.copy2(src, dst)\n",
    "\n",
    "# Process both classes\n",
    "shuffle_and_split(real_dir, 'real')\n",
    "shuffle_and_split(fake_dir, 'fake')\n",
    "\n",
    "print(\"✅ Dataset has been shuffled and split into training/validation/testing.\")\n"
   ]
  }
 ],
 "metadata": {
  "kernelspec": {
   "display_name": "base",
   "language": "python",
   "name": "python3"
  },
  "language_info": {
   "codemirror_mode": {
    "name": "ipython",
    "version": 3
   },
   "file_extension": ".py",
   "mimetype": "text/x-python",
   "name": "python",
   "nbconvert_exporter": "python",
   "pygments_lexer": "ipython3",
   "version": "3.11.7"
  }
 },
 "nbformat": 4,
 "nbformat_minor": 5
}
